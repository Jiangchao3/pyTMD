{
 "cells": [
  {
   "cell_type": "markdown",
   "metadata": {},
   "source": [
    "### Ross Ice Shelf Map\n",
    "```\n",
    "pip3 install --user ipywidgets\n",
    "jupyter nbextension install --user --py widgetsnbextension\n",
    "jupyter nbextension enable --user --py widgetsnbextension\n",
    "jupyter-notebook\n",
    "```"
   ]
  },
  {
   "cell_type": "markdown",
   "metadata": {},
   "source": [
    "#### Load modules"
   ]
  },
  {
   "cell_type": "code",
   "execution_count": 1,
   "metadata": {},
   "outputs": [
    {
     "data": {
      "application/vnd.jupyter.widget-view+json": {
       "model_id": "d0235405d1314e81b3fd24ee533c2441",
       "version_major": 2,
       "version_minor": 0
      },
      "text/plain": [
       "Text(value='', description='Directory:')"
      ]
     },
     "metadata": {},
     "output_type": "display_data"
    },
    {
     "data": {
      "application/vnd.jupyter.widget-view+json": {
       "model_id": "a08ee58e2efe4c92893be20c7b5ade36",
       "version_major": 2,
       "version_minor": 0
      },
      "text/plain": [
       "Dropdown(description='Model:', index=1, options=('CATS0201', 'CATS2008', 'TPXO9-atlas', 'TPXO9.1', 'TPXO8-atla…"
      ]
     },
     "metadata": {},
     "output_type": "display_data"
    }
   ],
   "source": [
    "import os\n",
    "import pyproj\n",
    "import datetime\n",
    "import numpy as np\n",
    "import matplotlib.pyplot as plt\n",
    "import ipywidgets as widgets\n",
    "\n",
    "from pyTMD.calc_delta_time import calc_delta_time\n",
    "from pyTMD.read_tide_model import extract_tidal_constants\n",
    "from pyTMD.read_netcdf_model import extract_netcdf_constants\n",
    "from pyTMD.read_GOT_model import extract_GOT_constants\n",
    "from pyTMD.infer_minor_corrections import infer_minor_corrections\n",
    "from pyTMD.predict_tide import predict_tide\n",
    "\n",
    "#-- set the directory with tide models\n",
    "dirText = widgets.Text(\n",
    "    value=os.getcwd(),\n",
    "    description='Directory:',\n",
    "    disabled=False\n",
    ")\n",
    "display(dirText)\n",
    "\n",
    "#-- dropdown menu for setting tide model\n",
    "model_list = ['CATS0201','CATS2008','TPXO9-atlas','TPXO9.1',\n",
    "    'TPXO8-atlas','TPXO7.2','GOT4.7','GOT4.8','GOT4.10']\n",
    "modelDropdown = widgets.Dropdown(\n",
    "    options=model_list,\n",
    "    value='CATS2008',\n",
    "    description='Model:',\n",
    "    disabled=False,\n",
    ")\n",
    "display(modelDropdown)"
   ]
  },
  {
   "cell_type": "markdown",
   "metadata": {},
   "source": [
    "#### Setup tide model parameters"
   ]
  },
  {
   "cell_type": "code",
   "execution_count": 2,
   "metadata": {},
   "outputs": [],
   "source": [
    "#-- directory with tide models\n",
    "tide_dir = os.path.expanduser(dirText.value)\n",
    "MODEL = modelDropdown.value\n",
    "if (MODEL == 'CATS0201'):\n",
    "    grid_file = os.path.join(tide_dir,'cats0201_tmd','grid_CATS')\n",
    "    model_file = os.path.join(tide_dir,'cats0201_tmd','h0_CATS02_01')\n",
    "    model_format = 'OTIS'\n",
    "    EPSG = '4326'\n",
    "    TYPE = 'z'\n",
    "elif (MODEL == 'CATS2008'):\n",
    "    grid_file = os.path.join(tide_dir,'CATS2008','grid_CATS2008a_opt')\n",
    "    model_file = os.path.join(tide_dir,'CATS2008','hf.CATS2008.out')\n",
    "    model_format = 'OTIS'\n",
    "    EPSG = 'CATS2008'\n",
    "    TYPE = 'z'\n",
    "elif (MODEL == 'TPXO9-atlas'):\n",
    "    model_directory = os.path.join(tide_dir,'TPXO9_atlas')\n",
    "    grid_file = 'grid_tpxo9_atlas.nc.gz'\n",
    "    model_files = ['h_q1_tpxo9_atlas_30.nc.gz','h_o1_tpxo9_atlas_30.nc.gz',\n",
    "        'h_p1_tpxo9_atlas_30.nc.gz','h_k1_tpxo9_atlas_30.nc.gz',\n",
    "        'h_n2_tpxo9_atlas_30.nc.gz','h_m2_tpxo9_atlas_30.nc.gz',\n",
    "        'h_s2_tpxo9_atlas_30.nc.gz','h_k2_tpxo9_atlas_30.nc.gz',\n",
    "        'h_m4_tpxo9_atlas_30.nc.gz','h_ms4_tpxo9_atlas_30.nc.gz',\n",
    "        'h_mn4_tpxo9_atlas_30.nc.gz','h_2n2_tpxo9_atlas_30.nc.gz']\n",
    "    model_format = 'netcdf'\n",
    "    TYPE = 'z'\n",
    "    SCALE = 1.0/1000.0\n",
    "elif (MODEL == 'TPXO9.1'):\n",
    "    grid_file = os.path.join(tide_dir,'TPXO9.1','DATA','grid_tpxo9')\n",
    "    model_file = os.path.join(tide_dir,'TPXO9.1','DATA','h_tpxo9.v1')\n",
    "    model_format = 'OTIS'\n",
    "    EPSG = '4326'\n",
    "    TYPE = 'z'\n",
    "elif (MODEL == 'TPXO8-atlas'):\n",
    "    grid_file = os.path.join(tide_dir,'tpxo8_atlas','grid_tpxo8atlas_30_v1')\n",
    "    model_file = os.path.join(tide_dir,'tpxo8_atlas','hf.tpxo8_atlas_30_v1')\n",
    "    model_format = 'ATLAS'\n",
    "    EPSG = '4326'\n",
    "    TYPE = 'z'\n",
    "elif (MODEL == 'TPXO7.2'):\n",
    "    grid_file = os.path.join(tide_dir,'TPXO7.2_tmd','grid_tpxo7.2')\n",
    "    model_file = os.path.join(tide_dir,'TPXO7.2_tmd','h_tpxo7.2')\n",
    "    model_format = 'OTIS'\n",
    "    EPSG = '4326'\n",
    "    TYPE = 'z'\n",
    "elif (MODEL == 'GOT4.7'):\n",
    "    model_directory = os.path.join(tide_dir,'GOT4.7','grids_oceantide')\n",
    "    model_files = ['q1.d.gz','o1.d.gz','p1.d.gz','k1.d.gz','n2.d.gz',\n",
    "        'm2.d.gz','s2.d.gz','k2.d.gz','s1.d.gz','m4.d.gz']\n",
    "    c = ['q1','o1','p1','k1','n2','m2','s2','k2','s1','m4']\n",
    "    model_format = 'GOT'\n",
    "    SCALE = 1.0/100.0\n",
    "elif (MODEL == 'GOT4.8'):\n",
    "    model_directory = os.path.join(tide_dir,'got4.8','grids_oceantide')\n",
    "    model_files = ['q1.d.gz','o1.d.gz','p1.d.gz','k1.d.gz','n2.d.gz',\n",
    "        'm2.d.gz','s2.d.gz','k2.d.gz','s1.d.gz','m4.d.gz']\n",
    "    c = ['q1','o1','p1','k1','n2','m2','s2','k2','s1','m4']\n",
    "    model_format = 'GOT'\n",
    "    SCALE = 1.0/100.0\n",
    "elif (MODEL == 'GOT4.10'):\n",
    "    model_directory = os.path.join(tide_dir,'GOT4.10c','grids_oceantide')\n",
    "    model_files = ['q1.d.gz','o1.d.gz','p1.d.gz','k1.d.gz','n2.d.gz',\n",
    "        'm2.d.gz','s2.d.gz','k2.d.gz','s1.d.gz','m4.d.gz']\n",
    "    c = ['q1','o1','p1','k1','n2','m2','s2','k2','s1','m4']\n",
    "    model_format = 'GOT'\n",
    "    SCALE = 1.0/100.0"
   ]
  },
  {
   "cell_type": "markdown",
   "metadata": {},
   "source": [
    "#### Setup coordinates for calculating tides"
   ]
  },
  {
   "cell_type": "code",
   "execution_count": 3,
   "metadata": {},
   "outputs": [],
   "source": [
    "#-- create an image around the Ross Ice Shelf\n",
    "xlimits = [-740000,520000]\n",
    "ylimits = [-1430000,-300000]\n",
    "x = np.arange(xlimits[0],xlimits[1]+5e3,5e3)\n",
    "y = np.arange(ylimits[1],ylimits[0]-5e3,-5e3)\n",
    "nx,ny = (len(x), len(y))\n",
    "xgrid,ygrid = np.meshgrid(x,y)\n",
    "#-- convert image coordinates from polar stereographic to latitude/longitude\n",
    "proj1 = pyproj.Proj(\"+init=EPSG:{0:d}\".format(4326))\n",
    "proj2 = pyproj.Proj(\"+init=EPSG:{0:d}\".format(3031))\n",
    "lon,lat = pyproj.transform(proj2, proj1, xgrid.flatten(), ygrid.flatten())"
   ]
  },
  {
   "cell_type": "markdown",
   "metadata": {},
   "source": [
    "#### Setup date for calculating tides"
   ]
  },
  {
   "cell_type": "code",
   "execution_count": 4,
   "metadata": {},
   "outputs": [
    {
     "data": {
      "application/vnd.jupyter.widget-view+json": {
       "model_id": "b4276e3e3b3648cea3e3985d851671dd",
       "version_major": 2,
       "version_minor": 0
      },
      "text/plain": [
       "DatePicker(value=datetime.date(2019, 11, 21), description='Date:')"
      ]
     },
     "metadata": {},
     "output_type": "display_data"
    }
   ],
   "source": [
    "datepick = widgets.DatePicker(\n",
    "    description='Date:',\n",
    "    value = datetime.date.today(),\n",
    "    disabled=False\n",
    ")\n",
    "display(datepick)"
   ]
  },
  {
   "cell_type": "markdown",
   "metadata": {},
   "source": [
    "#### Calculate tide map"
   ]
  },
  {
   "cell_type": "code",
   "execution_count": 5,
   "metadata": {},
   "outputs": [],
   "source": [
    "#-- convert from calendar date to days relative to Jan 1, 1992 (48622 MJD)\n",
    "YMD = datepick.value\n",
    "tide_time = 367.0*YMD.year - \\\n",
    "    np.floor(7.0*(YMD.year + np.floor((YMD.month+9.0)/12.0))/4.0) - \\\n",
    "    np.floor(3.0*(np.floor((YMD.year + (YMD.month - 9.0)/7.0)/100.0) + 1.0)/4.0) + \\\n",
    "    np.floor(275.*YMD.month/9.0) + YMD.day - 727594.0\n",
    "\n",
    "#-- read tidal constants and interpolate to grid points\n",
    "if model_format in ('OTIS','ATLAS'):\n",
    "    amp,ph,D,c = extract_tidal_constants(lon, lat, grid_file, model_file,\n",
    "        EPSG, TYPE, METHOD='spline', GRID=model_format)\n",
    "    DELTAT = np.zeros_like(tide_time)\n",
    "elif (model_format == 'netcdf'):\n",
    "    amp,ph,D,c = extract_netcdf_constants(lon, lat, model_directory,\n",
    "        grid_file, model_files, TYPE, METHOD='spline', SCALE=SCALE)\n",
    "    DELTAT = np.zeros_like(tide_time)\n",
    "elif (model_format == 'GOT'):\n",
    "    amp,ph = extract_GOT_constants(lon, lat, model_directory, model_files,\n",
    "        METHOD='spline', SCALE=SCALE)\n",
    "    #-- convert time to Modified Julian Days for calculating deltat\n",
    "    delta_file = os.path.join(tide_dir,'deltat.data')\n",
    "    DELTAT = calc_delta_time(delta_file, tide_time + 48622.0)\n",
    "\n",
    "#-- calculate complex phase in radians for Euler's\n",
    "cph = -1j*ph*np.pi/180.0\n",
    "#-- calculate constituent oscillation\n",
    "hc = amp*np.exp(cph)\n",
    "\n",
    "#-- predict tidal elevations at time and infer minor corrections\n",
    "TIDE = predict_tide(tide_time, hc, c, DELTAT=DELTAT,\n",
    "    CORRECTIONS=model_format)\n",
    "MINOR = infer_minor_corrections(tide_time, hc, c,\n",
    "    DELTAT=DELTAT, CORRECTIONS=model_format)\n",
    "#-- add major and minor components and reform grid\n",
    "#-- convert from meters to centimeters\n",
    "tide_cm = 100.0*np.reshape((TIDE+MINOR),(ny,nx))"
   ]
  },
  {
   "cell_type": "markdown",
   "metadata": {},
   "source": [
    "#### Create image of tidal oscillation"
   ]
  },
  {
   "cell_type": "code",
   "execution_count": 6,
   "metadata": {},
   "outputs": [
    {
     "data": {
      "image/png": "[encoded data removed]",
      "text/plain": [
       "<Figure size 432x432 with 2 Axes>"
      ]
     },
     "metadata": {
      "needs_background": "light"
     },
     "output_type": "display_data"
    }
   ],
   "source": [
    "#-- output Ross Ice Shelf Tide Image\n",
    "fig, ax = plt.subplots(num=1, figsize=(6,6))\n",
    "#-- plot tide height\n",
    "im = ax.imshow(tide_cm, extent=(x[0],x[1],y[0],y[1]),\n",
    "    origin='upper', interpolation='nearest')\n",
    "\n",
    "#-- Add colorbar and adjust size\n",
    "#-- pad = distance from main plot axis\n",
    "#-- extend = add extension triangles to upper and lower bounds\n",
    "#-- options: neither, both, min, max\n",
    "#-- shrink = percent size of colorbar\n",
    "#-- aspect = lengthXwidth aspect of colorbar\n",
    "cbar = plt.colorbar(im, ax=ax, pad=0.025, extend='both',\n",
    "    extendfrac=0.0375, shrink=0.85, aspect=22.5, drawedges=False)\n",
    "#-- rasterized colorbar to remove lines\n",
    "cbar.solids.set_rasterized(True)\n",
    "#-- Add label to the colorbar\n",
    "cbar.ax.set_ylabel('{0} Tide Height'.format(MODEL), labelpad=10)\n",
    "cbar.ax.set_xlabel('cm')\n",
    "cbar.ax.xaxis.set_label_coords(0.50, 1.045)\n",
    "#-- ticks lines all the way across\n",
    "cbar.ax.tick_params(which='both', width=1, length=11, direction='in')\n",
    "#-- add title (date)\n",
    "ax.set_title(YMD)\n",
    "#-- adjust ticks to be inward\n",
    "ax.get_xaxis().set_tick_params(which='both', direction='in')\n",
    "ax.get_yaxis().set_tick_params(which='both', direction='in')\n",
    "plt.show()"
   ]
  }
 ],
 "metadata": {
  "kernelspec": {
   "display_name": "Python 3",
   "language": "python",
   "name": "python3"
  },
  "language_info": {
   "codemirror_mode": {
    "name": "ipython",
    "version": 3
   },
   "file_extension": ".py",
   "mimetype": "text/x-python",
   "name": "python",
   "nbconvert_exporter": "python",
   "pygments_lexer": "ipython3",
   "version": "3.7.4"
  }
 },
 "nbformat": 4,
 "nbformat_minor": 2
}
